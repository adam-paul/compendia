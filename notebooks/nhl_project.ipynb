{
 "cells": [
  {
   "cell_type": "markdown",
   "metadata": {},
   "source": [
    "## 1. Data Munging"
   ]
  },
  {
   "cell_type": "markdown",
   "metadata": {},
   "source": [
    "### Preliminary setup"
   ]
  },
  {
   "cell_type": "code",
   "execution_count": 2,
   "metadata": {},
   "outputs": [],
   "source": [
    "import numpy as np\n",
    "import matplotlib.pyplot as plt\n",
    "import urllib\n",
    "import json\n",
    "import pandas as pd"
   ]
  },
  {
   "cell_type": "code",
   "execution_count": 3,
   "metadata": {},
   "outputs": [],
   "source": [
    "# Pandas config\n",
    "pd.options.display.max_rows = 1600\n",
    "pd.options.display.max_columns = 50\n",
    "\n",
    "# Pyplot config\n",
    "plt.rcParams.update({'font.size': 14})"
   ]
  },
  {
   "cell_type": "code",
   "execution_count": 4,
   "metadata": {},
   "outputs": [],
   "source": [
    "# NHL season data\n",
    "start_year = 1917 # 1917 is the first year with data\n",
    "end_year = 2022\n",
    "all_years = range(start_year, end_year, 1)\n",
    "seasons = ['{}{}'.format(year, year+1) for year in all_years]\n",
    "    \n",
    "# Cup winners\n",
    "#cup_winners = pd.read_csv('cup-winners.csv', names=['year', 'team', 'abbr'])\n",
    "#cup_winners.loc[3] = ['2020', 'To Be Determined', 'TBD']\n",
    "#cup_winners.index = seasons"
   ]
  },
  {
   "cell_type": "code",
   "execution_count": 5,
   "metadata": {},
   "outputs": [],
   "source": [
    "req = urllib.request.urlopen('https://statsapi.web.nhl.com/api/v1/teams')\n",
    "req_json = req.read().decode()\n",
    "req_teams = dict(json.loads(req_json))['teams']\n",
    "req_names = [team['name'] for team in req_teams]"
   ]
  },
  {
   "cell_type": "code",
   "execution_count": 6,
   "metadata": {},
   "outputs": [],
   "source": [
    "# NHL Team Abbreviation Index\n",
    "\n",
    "req = urllib.request.urlopen('https://statsapi.web.nhl.com/api/v1/teams')\n",
    "req_json = req.read().decode()\n",
    "req_teams = dict(json.loads(req_json))['teams']\n",
    "req_names = [team['name'] for team in req_teams]\n",
    "\n",
    "teams_long = ['Anaheim Ducks',\n",
    "              'Arizona Coyotes',\n",
    "              'Atlanta Flames',\n",
    "              'Atlanta Thrashers',\n",
    "              'Boston Bruins',\n",
    "              'Brooklyn Americans',\n",
    "              'Buffalo Sabres',\n",
    "              'Calgary Flames',\n",
    "              'California Golden Seals',\n",
    "              'Carolina Hurricanes',\n",
    "              'Chicago Blackhawks',\n",
    "              'Cleveland Barons',\n",
    "              'Colorado Avalanche',\n",
    "              'Colorado Rockies',\n",
    "              'Columbus Blue Jackets',\n",
    "              'Dallas Stars',\n",
    "              'Detroit Cougars',\n",
    "              'Detroit Falcons',\n",
    "              'Detroit Red Wings',\n",
    "              'Edmonton Oilers',\n",
    "              'Florida Panthers',\n",
    "              'Hamilton Tigers',\n",
    "              'Hartford Whalers',\n",
    "              'Kansas City Scouts',\n",
    "              'Los Angeles Kings',\n",
    "              'Minnesota North Stars',\n",
    "              'Minnesota Wild',\n",
    "              'Montréal Canadiens',\n",
    "              'Montreal Maroons',\n",
    "              'Montreal Wanderers',\n",
    "              'Nashville Predators',\n",
    "              'New Jersey Devils',\n",
    "              'New York Americans',\n",
    "              'New York Islanders',\n",
    "              'New York Rangers',\n",
    "              'Oakland Seals',\n",
    "              'Ottawa Senators',\n",
    "              'Ottawa Senators (1917)',\n",
    "              'Phoenix Coyotes',\n",
    "              'Philadelphia Flyers',\n",
    "              'Philadelphia Quakers',\n",
    "              'Pittsburgh Penguins',\n",
    "              'Pittsburgh Pirates',\n",
    "              'Quebec Bulldogs',\n",
    "              'Quebec Nordiques',\n",
    "              'San Jose Sharks',\n",
    "              'Seattle Kraken',\n",
    "              'St. Louis Blues',\n",
    "              'St. Louis Eagles',\n",
    "              'Tampa Bay Lightning',\n",
    "              'Toronto Arenas',\n",
    "              'Toronto Maple Leafs',\n",
    "              'Toronto St. Patricks',\n",
    "              'Vancouver Canucks',\n",
    "              'Vegas Golden Knights',\n",
    "              'Washington Capitals',\n",
    "              'Winnipeg Jets',\n",
    "              'Winnipeg Jets (1979)']\n",
    "\n",
    "teams_short = ['ANA',\n",
    "               'ARI',\n",
    "               'AFM',\n",
    "               'ATL',\n",
    "               'BOS',\n",
    "               'BRK',\n",
    "               'BUF',\n",
    "               'CGY',\n",
    "               'CGS',\n",
    "               'CAR',\n",
    "               'CHI',\n",
    "               'CLE',\n",
    "               'COL',\n",
    "               'CLR',\n",
    "               'CBJ',\n",
    "               'DAL',\n",
    "               'DCG',\n",
    "               'DFL',\n",
    "               'DET',\n",
    "               'EDM',\n",
    "               'FLA',\n",
    "               'HAM',\n",
    "               'HFD',\n",
    "               'KCS',\n",
    "               'LAK',\n",
    "               'MNS',\n",
    "               'MIN',\n",
    "               'MTL',\n",
    "               'MMR',\n",
    "               'MWN',\n",
    "               'NSH',\n",
    "               'NJD',\n",
    "               'NYA',\n",
    "               'NYI',\n",
    "               'NYR',\n",
    "               'OAK',\n",
    "               'OTT',\n",
    "               'SEN',\n",
    "               'PHX',\n",
    "               'PHI',\n",
    "               'QUA',\n",
    "               'PIT',\n",
    "               'PIT',\n",
    "               'QBD',\n",
    "               'QUE',\n",
    "               'SJS',\n",
    "               'SEA',\n",
    "               'STL',\n",
    "               'SLE',\n",
    "               'TBL',\n",
    "               'TAN',\n",
    "               'TOR',\n",
    "               'TSP',\n",
    "               'VAN',\n",
    "               'VGK',\n",
    "               'WSH',\n",
    "               'WPG', \n",
    "               'WIN']\n",
    "\n",
    "team_index = dict(zip(teams_long, teams_short))"
   ]
  },
  {
   "cell_type": "markdown",
   "metadata": {},
   "source": [
    "### Clean build for current season"
   ]
  },
  {
   "cell_type": "code",
   "execution_count": 7,
   "metadata": {},
   "outputs": [],
   "source": [
    "### THIS IS A CLEAN BUILD FOR THE CURRENT SEASON, JUST A TEMPLATE ###\n",
    "\n",
    "# First get the team data into a dataframe\n",
    "teams_req = urllib.request.urlopen('https://statsapi.web.nhl.com/api/v1/teams?expand=team.stats')\n",
    "teams_json = teams_req.read().decode()\n",
    "teams_meta = dict(json.loads(teams_json))\n",
    "teams_dict = {key['abbreviation']:key for key in teams_meta['teams']}\n",
    "teams_df = pd.DataFrame.from_dict(teams_dict)\n",
    "\n",
    "stats_dict = {team:teams_df[team]['teamStats'][0]['splits'][0]['stat'] for team in teams_df.columns}\n",
    "stats_df = pd.DataFrame.from_dict(stats_dict, orient='index')\n",
    "\n",
    "# Next we can get player rosters\n",
    "players_req = urllib.request.urlopen('https://statsapi.web.nhl.com/api/v1/teams?expand=team.roster')\n",
    "players_json = players_req.read().decode()\n",
    "players_meta = dict(json.loads(players_json))"
   ]
  },
  {
   "cell_type": "markdown",
   "metadata": {},
   "source": [
    "### Pulling and building for all seasons"
   ]
  },
  {
   "cell_type": "markdown",
   "metadata": {},
   "source": [
    "#### Team data"
   ]
  },
  {
   "cell_type": "code",
   "execution_count": 8,
   "metadata": {},
   "outputs": [],
   "source": [
    "# Pull team data for all seasons from NHL API\n",
    "teams_reqs = [urllib.request.urlopen( \\\n",
    "              'https://statsapi.web.nhl.com/api/v1/teams?expand=team.stats&season={}'.format( \\\n",
    "              season)) for season in seasons]"
   ]
  },
  {
   "cell_type": "code",
   "execution_count": 9,
   "metadata": {},
   "outputs": [],
   "source": [
    "# Decode into readable JSON-like format\n",
    "teams_jsons = [req.read().decode() for req in teams_reqs]"
   ]
  },
  {
   "cell_type": "code",
   "execution_count": 10,
   "metadata": {},
   "outputs": [],
   "source": [
    "# Load in as JSON and collect appropriate segments into dictionary\n",
    "teams_metas = [dict(json.loads(fread))['teams'] for fread in teams_jsons]"
   ]
  },
  {
   "cell_type": "code",
   "execution_count": 11,
   "metadata": {},
   "outputs": [],
   "source": [
    "# Create list of all team data for each season\n",
    "teams_dicts = [{key['abbreviation']:key for key in season} for season in teams_metas]"
   ]
  },
  {
   "cell_type": "code",
   "execution_count": 12,
   "metadata": {},
   "outputs": [],
   "source": [
    "# Create master dictionary for all teams for each season\n",
    "season_dict = dict(zip(seasons, teams_dicts))"
   ]
  },
  {
   "cell_type": "code",
   "execution_count": 13,
   "metadata": {},
   "outputs": [],
   "source": [
    "# Create stats dictionary\n",
    "stats_dict = {}\n",
    "\n",
    "for key in season_dict:\n",
    "    # Some seasons have no stats available, NaN results in KeyError\n",
    "    try:\n",
    "        stats_dict[key] = {season_dict[key][team]['abbreviation'] : \\\n",
    "                       season_dict[key][team]['teamStats'][0]['splits'][0]['stat'] \\\n",
    "                       for team in season_dict[key]}\n",
    "    except KeyError:\n",
    "    # Populate teams one at a time in years where some teams have no stats\n",
    "        stats_dict[key] = {}\n",
    "        for team in season_dict[key]:\n",
    "            try:\n",
    "                stats_dict[key][team] = season_dict[key][team]['teamStats'][0]['splits'][0]['stat']\n",
    "            except KeyError:\n",
    "                # Empty dictionary for teams with no stats (rather than NaN)\n",
    "                stats_dict[key][team] = {key:0 for key in season_dict['20002001']['COL']['teamStats'][0]['splits'][0]['stat']}"
   ]
  },
  {
   "cell_type": "code",
   "execution_count": 14,
   "metadata": {},
   "outputs": [],
   "source": [
    "# Create master dictionary of seasonal stats dataframes for each season\n",
    "stats_dfs = {key:pd.DataFrame.from_dict(stats_dict[key], orient='index') for key in stats_dict}"
   ]
  },
  {
   "cell_type": "code",
   "execution_count": 15,
   "metadata": {},
   "outputs": [],
   "source": [
    "# Append a new boolean array column to each seasonal dataframe to indicate Stanley Cup winner\n",
    "#for key in stats_dfs:\n",
    "#    win_bool = stats_dfs[key].index == cup_winners.loc[key]['abbr']\n",
    "#    stats_dfs[key]['cupWin'] = win_bool"
   ]
  },
  {
   "cell_type": "markdown",
   "metadata": {},
   "source": [
    "#### Player data (via ID lookup)"
   ]
  },
  {
   "cell_type": "code",
   "execution_count": 16,
   "metadata": {},
   "outputs": [],
   "source": [
    "# Pull the roster data? \n",
    "player_reqs = [urllib.request.urlopen( \\\n",
    "              'https://statsapi.web.nhl.com/api/v1/teams?expand=team.roster&season={}'.format( \\\n",
    "              season)) for season in seasons]"
   ]
  },
  {
   "cell_type": "code",
   "execution_count": 17,
   "metadata": {},
   "outputs": [],
   "source": [
    "# Decode into readable JSON-like format\n",
    "player_jsons = [req.read().decode() for req in player_reqs]"
   ]
  },
  {
   "cell_type": "code",
   "execution_count": 18,
   "metadata": {},
   "outputs": [],
   "source": [
    "# Load in as JSON and collect appropriate segments into dictionary\n",
    "player_metas = [dict(json.loads(fread))['teams'] for fread in player_jsons]"
   ]
  },
  {
   "cell_type": "code",
   "execution_count": 19,
   "metadata": {},
   "outputs": [],
   "source": [
    "# Create a dictionary that connects each season to each team that played that season, and connect each of those teams to their corresponding roster data\n",
    "rosters = []\n",
    "\n",
    "for season in player_metas:\n",
    "    try:\n",
    "        rosters.append({team['abbreviation']:team['roster']['roster'] for team in season})\n",
    "        \n",
    "    except KeyError:\n",
    "        team_dict = {}\n",
    "        for team in season:\n",
    "            try:\n",
    "                team_dict[team['abbreviation']] = team['roster']['roster']\n",
    "            except KeyError:\n",
    "                team_dict[team['abbreviation']] = {}\n",
    "        rosters.append(team_dict)\n",
    "\n",
    "season_dicts = dict(zip(seasons, rosters))"
   ]
  },
  {
   "cell_type": "code",
   "execution_count": 20,
   "metadata": {},
   "outputs": [],
   "source": [
    "# Gather all of the player IDs and their full names\n",
    "all_ids = [season_dicts[season][team][x]['person']['id'] for season in seasons for team in season_dicts[season].keys() for x in range(len(season_dicts[season][team]))]\n",
    "all_names = [season_dicts[season][team][x]['person']['fullName'] for season in seasons for team in season_dicts[season].keys() for x in range(len(season_dicts[season][team]))]\n",
    "\n",
    "# Then combine them into a dictionary\n",
    "id_dict = dict(zip(all_names, all_ids))"
   ]
  },
  {
   "cell_type": "code",
   "execution_count": 34,
   "metadata": {},
   "outputs": [],
   "source": [
    "# Create a function that returns a player's year-by-year statistics\n",
    "\n",
    "def get_player_df(player):\n",
    "    # Make API request and parse into python data structure\n",
    "    stat_req = urllib.request.urlopen('https://statsapi.web.nhl.com/api/v1/people/{}/stats?stats=yearByYear'.format(id_dict[player]))\n",
    "    stat_json = stat_req.read().decode()\n",
    "    player_stat = dict(json.loads(stat_json))['stats'][0]['splits']\n",
    "    \n",
    "    # Convert to pandas dataframe with team column\n",
    "    player_stats = [player_season['stat'] for player_season in player_stat if player_season['league']['name'] == 'National Hockey League']\n",
    "    player_seasons = [player_season['season'] for player_season in player_stat if player_season['league']['name'] == 'National Hockey League']\n",
    "    player_teams = [player_season['team']['name'] for player_season in player_stat if player_season['league']['name'] == 'National Hockey League']\n",
    "    teams_abb = [team_index[team] for team in player_teams]\n",
    "    player_df = pd.DataFrame(player_stats, index=player_seasons)\n",
    "    player_df.insert(loc=0, column='team', value=teams_abb)\n",
    "    \n",
    "    return player_df"
   ]
  },
  {
   "cell_type": "code",
   "execution_count": 41,
   "metadata": {},
   "outputs": [],
   "source": [
    "player_df = get_player_df('Jaromir Jagr')"
   ]
  },
  {
   "cell_type": "markdown",
   "metadata": {},
   "source": [
    "#### END"
   ]
  }
 ],
 "metadata": {
  "kernelspec": {
   "display_name": "Python 3 (ipykernel)",
   "language": "python",
   "name": "python3"
  },
  "language_info": {
   "codemirror_mode": {
    "name": "ipython",
    "version": 3
   },
   "file_extension": ".py",
   "mimetype": "text/x-python",
   "name": "python",
   "nbconvert_exporter": "python",
   "pygments_lexer": "ipython3",
   "version": "3.10.6"
  }
 },
 "nbformat": 4,
 "nbformat_minor": 4
}
